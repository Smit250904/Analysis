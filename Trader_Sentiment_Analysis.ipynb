{
  "nbformat": 4,
  "nbformat_minor": 0,
  "metadata": {
    "colab": {
      "provenance": [],
      "authorship_tag": "ABX9TyOLgvzcyq24FWujBs2adSue",
      "include_colab_link": true
    },
    "kernelspec": {
      "name": "python3",
      "display_name": "Python 3"
    },
    "language_info": {
      "name": "python"
    }
  },
  "cells": [
    {
      "cell_type": "markdown",
      "metadata": {
        "id": "view-in-github",
        "colab_type": "text"
      },
      "source": [
        "<a href=\"https://colab.research.google.com/github/Smit250904/Analysis/blob/main/Trader_Sentiment_Analysis.ipynb\" target=\"_parent\"><img src=\"https://colab.research.google.com/assets/colab-badge.svg\" alt=\"Open In Colab\"/></a>"
      ]
    },
    {
      "cell_type": "code",
      "execution_count": 2,
      "metadata": {
        "colab": {
          "base_uri": "https://localhost:8080/"
        },
        "id": "0k4dvF7q80Pn",
        "outputId": "a73abdb0-0a54-4170-f419-bf9498985246"
      },
      "outputs": [
        {
          "output_type": "stream",
          "name": "stdout",
          "text": [
            "Requirement already satisfied: nbformat in /usr/local/lib/python3.11/dist-packages (5.10.4)\n",
            "Requirement already satisfied: fastjsonschema>=2.15 in /usr/local/lib/python3.11/dist-packages (from nbformat) (2.21.1)\n",
            "Requirement already satisfied: jsonschema>=2.6 in /usr/local/lib/python3.11/dist-packages (from nbformat) (4.24.0)\n",
            "Requirement already satisfied: jupyter-core!=5.0.*,>=4.12 in /usr/local/lib/python3.11/dist-packages (from nbformat) (5.8.1)\n",
            "Requirement already satisfied: traitlets>=5.1 in /usr/local/lib/python3.11/dist-packages (from nbformat) (5.7.1)\n",
            "Requirement already satisfied: attrs>=22.2.0 in /usr/local/lib/python3.11/dist-packages (from jsonschema>=2.6->nbformat) (25.3.0)\n",
            "Requirement already satisfied: jsonschema-specifications>=2023.03.6 in /usr/local/lib/python3.11/dist-packages (from jsonschema>=2.6->nbformat) (2025.4.1)\n",
            "Requirement already satisfied: referencing>=0.28.4 in /usr/local/lib/python3.11/dist-packages (from jsonschema>=2.6->nbformat) (0.36.2)\n",
            "Requirement already satisfied: rpds-py>=0.7.1 in /usr/local/lib/python3.11/dist-packages (from jsonschema>=2.6->nbformat) (0.25.1)\n",
            "Requirement already satisfied: platformdirs>=2.5 in /usr/local/lib/python3.11/dist-packages (from jupyter-core!=5.0.*,>=4.12->nbformat) (4.3.8)\n",
            "Requirement already satisfied: typing-extensions>=4.4.0 in /usr/local/lib/python3.11/dist-packages (from referencing>=0.28.4->jsonschema>=2.6->nbformat) (4.14.0)\n"
          ]
        }
      ],
      "source": [
        "!pip install nbformat\n",
        "import nbformat as nbf\n",
        "\n",
        "nb = nbf.v4.new_notebook()\n",
        "\n",
        "cells = [\n",
        "    nbf.v4.new_markdown_cell(\"# 📈 Bitcoin Trader Behavior vs Market Sentiment\\nThis analysis explores how market sentiment (Fear/Greed) impacts trader performance.\"),\n",
        "\n",
        "    nbf.v4.new_markdown_cell(\"## 📁 1. Dataset Description\\n- historical_data.csv\\n- fear_greed_index.csv\"),\n",
        "\n",
        "    nbf.v4.new_code_cell(\"import pandas as pd\\nimport matplotlib.pyplot as plt\\nimport seaborn as sns\\n\\nhistorical_df = pd.read_csv('historical_data.csv')\\nfear_greed_df = pd.read_csv('fear_greed_index.csv')\\n\\nhistorical_df['Trade Date'] = pd.to_datetime(historical_df['Timestamp IST'], format='%d-%m-%Y %H:%M').dt.date\\nfear_greed_df['Sentiment Date'] = pd.to_datetime(fear_greed_df['date'], format='%Y-%m-%d').dt.date\\n\\nmerged_df = pd.merge(historical_df, fear_greed_df[['Sentiment Date', 'classification', 'value']],\\n                     left_on='Trade Date', right_on='Sentiment Date', how='left')\"),\n",
        "\n",
        "    nbf.v4.new_code_cell(\"merged_df['Profitable'] = merged_df['Closed PnL'] > 0\\naggregated_by_sentiment = merged_df.groupby('classification').agg({\\n    'Closed PnL': 'mean',\\n    'Profitable': 'mean',\\n    'Size USD': 'mean',\\n    'Execution Price': 'mean'\\n}).rename(columns={\\n    'Closed PnL': 'Avg PnL',\\n    'Profitable': 'Win Rate',\\n    'Size USD': 'Avg Trade Size (USD)',\\n    'Execution Price': 'Avg Execution Price'\\n}).reset_index()\\naggregated_by_sentiment['Win Rate'] = (aggregated_by_sentiment['Win Rate'] * 100).round(2)\\naggregated_by_sentiment\"),\n",
        "\n",
        "    nbf.v4.new_code_cell(\"sns.set(style='whitegrid')\\nplt.figure(figsize=(16, 12))\\n\\nplt.subplot(3, 1, 1)\\nsns.barplot(x='classification', y='Avg PnL', data=aggregated_by_sentiment, palette='coolwarm')\\nplt.title('Average PnL by Market Sentiment')\\n\\nplt.subplot(3, 1, 2)\\nsns.barplot(x='classification', y='Win Rate', data=aggregated_by_sentiment, palette='viridis')\\nplt.title('Win Rate (%) by Market Sentiment')\\n\\nplt.subplot(3, 1, 3)\\nsns.barplot(x='classification', y='Avg Trade Size (USD)', data=aggregated_by_sentiment, palette='pastel')\\nplt.title('Avg Trade Size by Sentiment')\\n\\nplt.tight_layout()\\nplt.show()\"),\n",
        "\n",
        "    nbf.v4.new_markdown_cell(\"## 🔍 4. Insights\\n- Best performance during **Extreme Greed**\\n- Win rate and PnL drop in **Fear** phases\\n- Larger trade size doesn't always mean more profit\"),\n",
        "\n",
        "    nbf.v4.new_markdown_cell(\"## ✅ 5. Conclusion\\nAligning trading behavior with sentiment improves outcomes. This insight can support automated crypto strategies.\")\n",
        "]\n",
        "\n",
        "nb['cells'] = cells\n",
        "with open('Trader_Sentiment_Analysis.ipynb', 'w') as f:\n",
        "    nbf.write(nb, f)\n"
      ]
    }
  ]
}